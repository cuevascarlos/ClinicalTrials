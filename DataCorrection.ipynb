{
 "cells": [
  {
   "cell_type": "code",
   "execution_count": 94,
   "metadata": {},
   "outputs": [
    {
     "name": "stdout",
     "output_type": "stream",
     "text": [
      "Formatting data set from BRAT to CONLL... Warning: brat text and annotation do not match.\n",
      "\ttext:  24\n",
      "\tanno: 240\n",
      "Done.\n"
     ]
    }
   ],
   "source": [
    "input_folder = \"./data\"\n",
    "\n",
    "from brat_to_conll import brat_to_conll as b2c\n",
    "\n",
    "b2c(input_folder, 'dataBIO.txt', 'spacy', 'en_core_web_sm')\n"
   ]
  },
  {
   "cell_type": "markdown",
   "metadata": {},
   "source": [
    "To solve this warning let check in which file is the mismatch position."
   ]
  },
  {
   "cell_type": "code",
   "execution_count": 129,
   "metadata": {},
   "outputs": [],
   "source": [
    "#Read the data\n",
    "import os\n",
    "\n",
    "folder_path = \"data\"\n",
    "txt_files = [file for file in os.listdir(folder_path) if file.endswith(\".txt\")]\n",
    "ann_files = [file for file in os.listdir(folder_path) if file.endswith(\".ann\")]\n",
    "\n",
    "files = {'id': [], 'text': [], 'ann': []}\n",
    "for file in txt_files:\n",
    "    files['id'].append(file.split('.')[0])\n",
    "    file_path = os.path.join(folder_path, file)\n",
    "    with open(file_path, \"r\") as f:\n",
    "        files['text'].append(f.read())\n",
    "\n",
    "for file in ann_files:\n",
    "    file_path = os.path.join(folder_path, file)\n",
    "    with open(file_path, \"r\") as f:\n",
    "        files['ann'].append(f.read())"
   ]
  },
  {
   "cell_type": "code",
   "execution_count": 130,
   "metadata": {},
   "outputs": [
    {
     "name": "stdout",
     "output_type": "stream",
     "text": [
      "31448513.ann\n",
      "{'id': 'T4', 'type': 'total-participants', 'start': 593, 'end': 596, 'text': '240'}\n",
      "240\n",
      "32686337.ann\n",
      "{'id': 'T5', 'type': 'total-participants', 'start': 357, 'end': 360, 'text': '240'}\n",
      "240\n",
      "32686337.ann\n",
      "{'id': 'T11', 'type': 'total-participants', 'start': 1228, 'end': 1231, 'text': '240'}\n",
      "240\n",
      "25935793.ann\n",
      "{'id': 'T6', 'type': 'control-participants', 'start': 1097, 'end': 1100, 'text': '240'}\n",
      "240\n",
      "15023242.ann\n",
      "{'id': 'T2', 'type': 'total-participants', 'start': 562, 'end': 565, 'text': '240'}\n",
      "240\n",
      "15023242.ann\n",
      "{'id': 'T26', 'type': 'total-participants', 'start': 561, 'end': 564, 'text': '240'}\n",
      " 24\n",
      "25068452.ann\n",
      "{'id': 'T3', 'type': 'total-participants', 'start': 776, 'end': 779, 'text': '240'}\n",
      "240\n"
     ]
    }
   ],
   "source": [
    "#Print the cases where the entity is 240 and the correspondent characters in the text\n",
    "import codecs\n",
    "\n",
    "for file in ann_files:\n",
    "    with codecs.open(f\"./data/{file}\", 'r', 'UTF-8') as f:\n",
    "        for line in f.read().splitlines():\n",
    "            anno = line.split()\n",
    "            id_anno = anno[0]\n",
    "            # parse entity\n",
    "            if id_anno[0] == 'T':\n",
    "                entity = {}\n",
    "                entity['id'] = id_anno\n",
    "                entity['type'] = anno[1]\n",
    "                entity['start'] = int(anno[2])\n",
    "                entity['end'] = int(anno[3])\n",
    "                entity['text'] = ' '.join(anno[4:])\n",
    "\n",
    "            if entity['text'] == '240':\n",
    "                print(file)\n",
    "                print(entity)\n",
    "\n",
    "                print(files['text'][files['id'].index(file.split('.')[0])][entity['start']:entity['end']])\n",
    "                \n",
    "                "
   ]
  },
  {
   "cell_type": "markdown",
   "metadata": {},
   "source": [
    "The file 15023242.ann is the problem. Start should be 562 and end should be 565. We correct that mistake manually and try again the transformation into BIO format."
   ]
  },
  {
   "cell_type": "code",
   "execution_count": 133,
   "metadata": {},
   "outputs": [
    {
     "name": "stdout",
     "output_type": "stream",
     "text": [
      "Formatting data set from BRAT to CONLL... Done.\n"
     ]
    }
   ],
   "source": [
    "b2c(input_folder, 'dataBIO.txt', 'spacy', 'en_core_web_sm')"
   ]
  }
 ],
 "metadata": {
  "kernelspec": {
   "display_name": "venv",
   "language": "python",
   "name": "python3"
  },
  "language_info": {
   "codemirror_mode": {
    "name": "ipython",
    "version": 3
   },
   "file_extension": ".py",
   "mimetype": "text/x-python",
   "name": "python",
   "nbconvert_exporter": "python",
   "pygments_lexer": "ipython3",
   "version": "3.10.12"
  }
 },
 "nbformat": 4,
 "nbformat_minor": 2
}
